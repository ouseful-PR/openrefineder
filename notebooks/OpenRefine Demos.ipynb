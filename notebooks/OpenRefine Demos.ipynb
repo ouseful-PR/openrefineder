{
 "cells": [
  {
   "cell_type": "markdown",
   "metadata": {},
   "source": [
    "# OpenRefine Client\n",
    "\n",
    "Notebook demonstrating how to control OpenRefine via a Python client.\n",
    "\n",
    "Use the `dbutlerdb/refine-client-py` fork of `PaulMakepeace/refine-client-py` for Python3 support."
   ]
  },
  {
   "cell_type": "markdown",
   "metadata": {},
   "source": [
    "## Getting Started\n",
    "\n",
    "To start, ensure that the OpenRefine application server is running. You can start it from the notebook homepage (`New -> OpenRefine Session`.\n",
    "\n",
    "The server connection is looked for on the default port 3333. This can be hardcoded as part of the `nbopenrefineder` OpneRefine start-up command."
   ]
  },
  {
   "cell_type": "code",
   "execution_count": null,
   "metadata": {},
   "outputs": [],
   "source": [
    "from open.refine import refine\n",
    "\n",
    "server = refine.RefineServer()\n",
    "orefine = refine.Refine(server)"
   ]
  },
  {
   "cell_type": "markdown",
   "metadata": {},
   "source": [
    "We can list any projects that currently exist:"
   ]
  },
  {
   "cell_type": "code",
   "execution_count": 13,
   "metadata": {},
   "outputs": [
    {
     "data": {
      "text/plain": [
       "dict_items([('2449490768888', {'name': 'Untitled', 'created': '2019-01-02T17:12:51Z', 'modified': '2019-01-02T17:14:55Z', 'creator': '', 'contributors': '', 'subject': '', 'description': '', 'rowCount': 0, 'customMetadata': {}}), ('2209465772212', {'name': 'Untitled', 'created': '2019-01-02T17:12:19Z', 'modified': '2019-01-02T17:14:55Z', 'creator': '', 'contributors': '', 'subject': '', 'description': '', 'rowCount': 0, 'customMetadata': {}})])"
      ]
     },
     "execution_count": 13,
     "metadata": {},
     "output_type": "execute_result"
    }
   ],
   "source": [
    "orefine.list_projects().items()"
   ]
  },
  {
   "cell_type": "markdown",
   "metadata": {},
   "source": [
    "## Creating Projects\n",
    "\n",
    "Projects can be created via the API from a source data file. "
   ]
  },
  {
   "cell_type": "code",
   "execution_count": 8,
   "metadata": {},
   "outputs": [],
   "source": [
    "%%capture\n",
    "try:\n",
    "    import pandas as pd\n",
    "except:\n",
    "    !pip install pandas\n",
    "    import pandas as pd"
   ]
  },
  {
   "cell_type": "code",
   "execution_count": 38,
   "metadata": {},
   "outputs": [],
   "source": [
    "#Create a simple test data file as a CSV file\n",
    "\n",
    "#via https://github.com/dbutlerdb/refine-client-py/blob/master/tests/data/duplicates.csv\n",
    "data = '''email,name,state,gender,purchase\n",
    "danny.baron@example1.com,Danny Baron,CA,M,TV\n",
    "melanie.white@example2.edu,Melanie White,NC,F,iPhone\n",
    "danny.baron@example1.com,D. Baron,CA,M,Winter jacket\n",
    "ben.tyler@example3.org,Ben Tyler,NV,M,Flashlight\n",
    "arthur.duff@example4.com,Arthur Duff,OR,M,Dining table\n",
    "danny.baron@example1.com,Daniel Baron,CA,M,Bike\n",
    "jean.griffith@example5.org,Jean Griffith,WA,F,Power drill\n",
    "melanie.white@example2.edu,Melanie White,NC,F,iPad\n",
    "ben.morisson@example6.org,Ben Morisson,FL,M,Amplifier\n",
    "arthur.duff@example4.com,Arthur Duff,OR,M,Night table'''\n",
    "\n",
    "\n",
    "fn = 'test.csv'\n",
    "\n",
    "with open(fn,'w') as f:\n",
    "    f.write(data)"
   ]
  },
  {
   "cell_type": "markdown",
   "metadata": {},
   "source": [
    "Either copy and paste the above data into a new OpenRefine project as a *clipboard* item or load it in as a CSV data file.\n",
    "\n",
    "We should now be able to see the project via the project index list:"
   ]
  },
  {
   "cell_type": "code",
   "execution_count": 132,
   "metadata": {},
   "outputs": [
    {
     "data": {
      "text/plain": [
       "{'2165169842672': {'name': 'clipboard',\n",
       "  'created': '2019-01-02T17:38:54Z',\n",
       "  'modified': '2019-01-02T18:04:55Z',\n",
       "  'creator': '',\n",
       "  'contributors': '',\n",
       "  'subject': '',\n",
       "  'description': '',\n",
       "  'rowCount': 10,\n",
       "  'customMetadata': {},\n",
       "  'importOptionMetadata': [{'guessCellValueTypes': False,\n",
       "    'ignoreLines': -1,\n",
       "    'processQuotes': True,\n",
       "    'fileSource': '(clipboard)',\n",
       "    'encoding': '',\n",
       "    'separator': ',',\n",
       "    'storeBlankCellsAsNulls': True,\n",
       "    'storeBlankRows': True,\n",
       "    'skipDataLines': 0,\n",
       "    'includeFileSources': False,\n",
       "    'headerLines': 1,\n",
       "    'limit': -1,\n",
       "    'projectName': 'clipboard'}]}}"
      ]
     },
     "execution_count": 132,
     "metadata": {},
     "output_type": "execute_result"
    }
   ],
   "source": [
    "#For some reason, the project does not appear to get named?\n",
    "orefine.list_projects()"
   ]
  },
  {
   "cell_type": "markdown",
   "metadata": {},
   "source": [
    "## Opening an OpenRefine Project\n",
    "\n",
    "To open an OpenRefine project, we need to get it's key value from the project list. (Note that different projects may have the same name.)"
   ]
  },
  {
   "cell_type": "code",
   "execution_count": 44,
   "metadata": {},
   "outputs": [
    {
     "data": {
      "text/plain": [
       "['__class__',\n",
       " '__delattr__',\n",
       " '__dict__',\n",
       " '__dir__',\n",
       " '__doc__',\n",
       " '__eq__',\n",
       " '__format__',\n",
       " '__ge__',\n",
       " '__getattribute__',\n",
       " '__gt__',\n",
       " '__hash__',\n",
       " '__init__',\n",
       " '__init_subclass__',\n",
       " '__le__',\n",
       " '__lt__',\n",
       " '__module__',\n",
       " '__ne__',\n",
       " '__new__',\n",
       " '__reduce__',\n",
       " '__reduce_ex__',\n",
       " '__repr__',\n",
       " '__setattr__',\n",
       " '__sizeof__',\n",
       " '__str__',\n",
       " '__subclasshook__',\n",
       " '__weakref__',\n",
       " 'default_options',\n",
       " 'get_project_id',\n",
       " 'get_project_name',\n",
       " 'list_projects',\n",
       " 'new_project',\n",
       " 'open_project',\n",
       " 'server',\n",
       " 'set_options',\n",
       " 'set_project_name']"
      ]
     },
     "execution_count": 44,
     "metadata": {},
     "output_type": "execute_result"
    }
   ],
   "source": [
    "dir(orefine)"
   ]
  },
  {
   "cell_type": "code",
   "execution_count": 133,
   "metadata": {},
   "outputs": [],
   "source": [
    "KEY = '2165169842672'  #Need to use a valid key\n",
    "KEY = list(orefine.list_projects().keys())[0]\n",
    "\n",
    "p = orefine.open_project(KEY)"
   ]
  },
  {
   "cell_type": "code",
   "execution_count": 134,
   "metadata": {},
   "outputs": [
    {
     "data": {
      "text/plain": [
       "['Email', 'name', 'NAME', 'NAME2', 'state', 'gender', 'purchase']"
      ]
     },
     "execution_count": 134,
     "metadata": {},
     "output_type": "execute_result"
    }
   ],
   "source": [
    "#Inspect the column names\n",
    "p.columns"
   ]
  },
  {
   "cell_type": "code",
   "execution_count": 135,
   "metadata": {},
   "outputs": [
    {
     "data": {
      "text/plain": [
       "(['Email', 'name', 'NAME', 'NAME2', 'state', 'gender', 'purchase2'],\n",
       " {'Email': 0,\n",
       "  'name': 1,\n",
       "  'NAME': 2,\n",
       "  'NAME2': 3,\n",
       "  'state': 4,\n",
       "  'gender': 5,\n",
       "  'purchase': 6,\n",
       "  'purchase2': 6})"
      ]
     },
     "execution_count": 135,
     "metadata": {},
     "output_type": "execute_result"
    }
   ],
   "source": [
    "#Rename a column\n",
    "\n",
    "col = p.columns[-1]\n",
    "p.rename_column(col,'{}2'.format(col))\n",
    "p.columns, p.column_order"
   ]
  },
  {
   "cell_type": "markdown",
   "metadata": {},
   "source": [
    "*Hmmm, it looks like there's a duplicate there?*"
   ]
  },
  {
   "cell_type": "markdown",
   "metadata": {},
   "source": [
    "### Adding A Column\n",
    "\n",
    "OpenRefine allows you to add a column derived from one or more other columns.\n",
    "\n",
    "```\n",
    ".add_column(oldColumn, newColumn, expression=\"value\", column_insert_index=None, on_error='set-to-blank'])\n",
    "```\n",
    "\n",
    "The `value` keyword denotes using the cell values from the original column."
   ]
  },
  {
   "cell_type": "code",
   "execution_count": 68,
   "metadata": {},
   "outputs": [
    {
     "data": {
      "text/plain": [
       "{'code': 'ok',\n",
       " 'historyEntry': {'id': 1546452832068,\n",
       "  'description': 'Create new column NAME2 based on column name by filling 10 rows with value',\n",
       "  'time': '2019-01-02T18:04:03Z'}}"
      ]
     },
     "execution_count": 68,
     "metadata": {},
     "output_type": "execute_result"
    }
   ],
   "source": [
    "p.add_column('name', 'name2', column_insert_index=2)"
   ]
  },
  {
   "cell_type": "code",
   "execution_count": 69,
   "metadata": {},
   "outputs": [
    {
     "data": {
      "text/plain": [
       "{'code': 'ok',\n",
       " 'historyEntry': {'id': 1546452926788,\n",
       "  'description': 'Create new column NAME based on column name by filling 10 rows with toUppercase(value)',\n",
       "  'time': '2019-01-02T18:04:17Z'}}"
      ]
     },
     "execution_count": 69,
     "metadata": {},
     "output_type": "execute_result"
    }
   ],
   "source": [
    "#Add a column based on the name\n",
    "p.add_column('name', 'NAME', \"toUppercase(value)\")"
   ]
  },
  {
   "cell_type": "markdown",
   "metadata": {},
   "source": [
    "For a list of supported GREL (Google Refine Expression Language) commands, see [here](https://github.com/OpenRefine/OpenRefine/wiki/GREL-String-Functions)."
   ]
  },
  {
   "cell_type": "markdown",
   "metadata": {},
   "source": [
    "### Delete A Column\n",
    "\n",
    "The `remove column` OpenRefine option doesn't appear to be supported?"
   ]
  },
  {
   "cell_type": "markdown",
   "metadata": {},
   "source": [
    "## Export CSV"
   ]
  },
  {
   "cell_type": "code",
   "execution_count": 81,
   "metadata": {},
   "outputs": [
    {
     "data": {
      "text/html": [
       "<div>\n",
       "<style scoped>\n",
       "    .dataframe tbody tr th:only-of-type {\n",
       "        vertical-align: middle;\n",
       "    }\n",
       "\n",
       "    .dataframe tbody tr th {\n",
       "        vertical-align: top;\n",
       "    }\n",
       "\n",
       "    .dataframe thead th {\n",
       "        text-align: right;\n",
       "    }\n",
       "</style>\n",
       "<table border=\"1\" class=\"dataframe\">\n",
       "  <thead>\n",
       "    <tr style=\"text-align: right;\">\n",
       "      <th></th>\n",
       "      <th>email</th>\n",
       "      <th>name</th>\n",
       "      <th>state</th>\n",
       "      <th>gender</th>\n",
       "      <th>purchase</th>\n",
       "    </tr>\n",
       "  </thead>\n",
       "  <tbody>\n",
       "    <tr>\n",
       "      <th>0</th>\n",
       "      <td>danny.baron@example1.com</td>\n",
       "      <td>Danny Baron</td>\n",
       "      <td>CA</td>\n",
       "      <td>M</td>\n",
       "      <td>TV</td>\n",
       "    </tr>\n",
       "    <tr>\n",
       "      <th>1</th>\n",
       "      <td>melanie.white@example2.edu</td>\n",
       "      <td>Melanie White</td>\n",
       "      <td>NC</td>\n",
       "      <td>F</td>\n",
       "      <td>iPhone</td>\n",
       "    </tr>\n",
       "    <tr>\n",
       "      <th>2</th>\n",
       "      <td>danny.baron@example1.com</td>\n",
       "      <td>D. Baron</td>\n",
       "      <td>CA</td>\n",
       "      <td>M</td>\n",
       "      <td>Winter jacket</td>\n",
       "    </tr>\n",
       "    <tr>\n",
       "      <th>3</th>\n",
       "      <td>ben.tyler@example3.org</td>\n",
       "      <td>Ben Tyler</td>\n",
       "      <td>NV</td>\n",
       "      <td>M</td>\n",
       "      <td>Flashlight</td>\n",
       "    </tr>\n",
       "    <tr>\n",
       "      <th>4</th>\n",
       "      <td>arthur.duff@example4.com</td>\n",
       "      <td>Arthur Duff</td>\n",
       "      <td>OR</td>\n",
       "      <td>M</td>\n",
       "      <td>Dining table</td>\n",
       "    </tr>\n",
       "    <tr>\n",
       "      <th>5</th>\n",
       "      <td>danny.baron@example1.com</td>\n",
       "      <td>Daniel Baron</td>\n",
       "      <td>CA</td>\n",
       "      <td>M</td>\n",
       "      <td>Bike</td>\n",
       "    </tr>\n",
       "    <tr>\n",
       "      <th>6</th>\n",
       "      <td>jean.griffith@example5.org</td>\n",
       "      <td>Jean Griffith</td>\n",
       "      <td>WA</td>\n",
       "      <td>F</td>\n",
       "      <td>Power drill</td>\n",
       "    </tr>\n",
       "    <tr>\n",
       "      <th>7</th>\n",
       "      <td>melanie.white@example2.edu</td>\n",
       "      <td>Melanie White</td>\n",
       "      <td>NC</td>\n",
       "      <td>F</td>\n",
       "      <td>iPad</td>\n",
       "    </tr>\n",
       "    <tr>\n",
       "      <th>8</th>\n",
       "      <td>ben.morisson@example6.org</td>\n",
       "      <td>Ben Morisson</td>\n",
       "      <td>FL</td>\n",
       "      <td>M</td>\n",
       "      <td>Amplifier</td>\n",
       "    </tr>\n",
       "    <tr>\n",
       "      <th>9</th>\n",
       "      <td>arthur.duff@example4.com</td>\n",
       "      <td>Arthur Duff</td>\n",
       "      <td>OR</td>\n",
       "      <td>M</td>\n",
       "      <td>Night table</td>\n",
       "    </tr>\n",
       "  </tbody>\n",
       "</table>\n",
       "</div>"
      ],
      "text/plain": [
       "                        email           name state gender       purchase\n",
       "0    danny.baron@example1.com    Danny Baron    CA      M             TV\n",
       "1  melanie.white@example2.edu  Melanie White    NC      F         iPhone\n",
       "2    danny.baron@example1.com       D. Baron    CA      M  Winter jacket\n",
       "3      ben.tyler@example3.org      Ben Tyler    NV      M     Flashlight\n",
       "4    arthur.duff@example4.com    Arthur Duff    OR      M   Dining table\n",
       "5    danny.baron@example1.com   Daniel Baron    CA      M           Bike\n",
       "6  jean.griffith@example5.org  Jean Griffith    WA      F    Power drill\n",
       "7  melanie.white@example2.edu  Melanie White    NC      F           iPad\n",
       "8   ben.morisson@example6.org   Ben Morisson    FL      M      Amplifier\n",
       "9    arthur.duff@example4.com    Arthur Duff    OR      M    Night table"
      ]
     },
     "execution_count": 81,
     "metadata": {},
     "output_type": "execute_result"
    }
   ],
   "source": [
    "import pandas as pd\n",
    "from io import StringIO\n",
    "\n",
    "pd.read_csv( StringIO( p.export(export_format='csv') ) )"
   ]
  },
  {
   "cell_type": "markdown",
   "metadata": {},
   "source": [
    "## Creating an OpenRefine Project\n",
    "\n",
    "*This doesn't seem to work?*\n",
    "\n",
    "*It would be useful to have a simple recipe for creating a project from a pandas dataframe.*"
   ]
  },
  {
   "cell_type": "code",
   "execution_count": 118,
   "metadata": {},
   "outputs": [],
   "source": [
    "import os\n",
    "\n",
    "#Create an OpenRefine project from the data file\n",
    "#USe the absolute path to the file\n",
    "p=orefine.new_project(project_file=os.path.abspath(fn), project_name='Test 1', project_file_name=fn)\n",
    "\n",
    "#Do we have to mediate this via a file transfer? eg could we go more directly from a pandas dataframe somehow?"
   ]
  },
  {
   "cell_type": "code",
   "execution_count": 119,
   "metadata": {},
   "outputs": [
    {
     "data": {
      "text/plain": [
       "{'1860845873071': {'name': 'Untitled',\n",
       "  'created': '2019-01-02T18:27:13Z',\n",
       "  'modified': '2019-01-02T18:27:27Z',\n",
       "  'creator': '',\n",
       "  'contributors': '',\n",
       "  'subject': '',\n",
       "  'description': '',\n",
       "  'rowCount': 10,\n",
       "  'customMetadata': {},\n",
       "  'importOptionMetadata': [{'storeBlankRows': True,\n",
       "    'includeFileSources': False,\n",
       "    'skipDataLines': 0,\n",
       "    'guessCellValueTypes': False,\n",
       "    'headerLines': 1,\n",
       "    'ignoreLines': -1,\n",
       "    'processQuotes': True,\n",
       "    'fileSource': 'test.csv',\n",
       "    'separator': ',',\n",
       "    'storeBlankCellsAsNulls': True}]},\n",
       " '2165169842672': {'name': 'clipboard',\n",
       "  'created': '2019-01-02T17:38:54Z',\n",
       "  'modified': '2019-01-02T18:04:55Z',\n",
       "  'creator': '',\n",
       "  'contributors': '',\n",
       "  'subject': '',\n",
       "  'description': '',\n",
       "  'rowCount': 10,\n",
       "  'customMetadata': {},\n",
       "  'importOptionMetadata': [{'guessCellValueTypes': False,\n",
       "    'ignoreLines': -1,\n",
       "    'processQuotes': True,\n",
       "    'fileSource': '(clipboard)',\n",
       "    'encoding': '',\n",
       "    'separator': ',',\n",
       "    'storeBlankCellsAsNulls': True,\n",
       "    'storeBlankRows': True,\n",
       "    'skipDataLines': 0,\n",
       "    'includeFileSources': False,\n",
       "    'headerLines': 1,\n",
       "    'limit': -1,\n",
       "    'projectName': 'clipboard'}]},\n",
       " '2411470781469': {'name': 'Untitled',\n",
       "  'created': '2019-01-02T18:25:59Z',\n",
       "  'modified': '2019-01-02T18:26:14Z',\n",
       "  'creator': '',\n",
       "  'contributors': '',\n",
       "  'subject': '',\n",
       "  'description': '',\n",
       "  'rowCount': 0,\n",
       "  'customMetadata': {}}}"
      ]
     },
     "execution_count": 119,
     "metadata": {},
     "output_type": "execute_result"
    }
   ],
   "source": [
    "#For some reason, the project does not appear to get named?\n",
    "#There also can be a delay before the index listing shows that the data has been loaded?\n",
    "orefine.list_projects()"
   ]
  },
  {
   "cell_type": "markdown",
   "metadata": {},
   "source": [
    "### Delete a Project\n",
    "\n",
    "Take care with this one — there is no warning..."
   ]
  },
  {
   "cell_type": "code",
   "execution_count": 120,
   "metadata": {},
   "outputs": [
    {
     "data": {
      "text/plain": [
       "True"
      ]
     },
     "execution_count": 120,
     "metadata": {},
     "output_type": "execute_result"
    }
   ],
   "source": [
    "p.delete()"
   ]
  },
  {
   "cell_type": "code",
   "execution_count": null,
   "metadata": {},
   "outputs": [],
   "source": []
  }
 ],
 "metadata": {
  "kernelspec": {
   "display_name": "Python 3",
   "language": "python",
   "name": "python3"
  },
  "language_info": {
   "codemirror_mode": {
    "name": "ipython",
    "version": 3
   },
   "file_extension": ".py",
   "mimetype": "text/x-python",
   "name": "python",
   "nbconvert_exporter": "python",
   "pygments_lexer": "ipython3",
   "version": "3.6.7"
  }
 },
 "nbformat": 4,
 "nbformat_minor": 2
}
